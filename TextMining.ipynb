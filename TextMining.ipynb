{
 "cells": [
  {
   "cell_type": "markdown",
   "metadata": {},
   "source": [
    "## Text Mining"
   ]
  },
  {
   "cell_type": "code",
   "execution_count": 100,
   "metadata": {},
   "outputs": [],
   "source": [
    "import pandas as pd\n",
    "import os\n",
    "import glob"
   ]
  },
  {
   "cell_type": "markdown",
   "metadata": {},
   "source": [
    "### Loading Text Data from directory\n"
   ]
  },
  {
   "cell_type": "code",
   "execution_count": 101,
   "metadata": {},
   "outputs": [],
   "source": [
    "# Read all files in the directory and combine then into file named corpus \n",
    "file_list = glob.glob(os.path.join(os.getcwd(), \"CaseStudy2Data\\datasets\", \"*.txt\"))\n",
    "corpus = []\n",
    "for file_path in file_list:\n",
    "    with open(file_path) as f_input:\n",
    "        corpus.append(f_input.read())\n",
    " \n",
    "#print(corpus)\n",
    "\n",
    "# Convert the corpus list into a data frame\n",
    "df = pd.DataFrame(corpus, columns= ['Text'],)\n",
    "df2 = pd.DataFrame(df.Text.str.split('\\n\\n', n = 2).tolist(), columns = ['Title', 'Abstract', 'Text'])\n",
    "df2.head(10)"
   ]
  },
  {
   "cell_type": "code",
   "execution_count": 102,
   "metadata": {},
   "outputs": [
    {
     "data": {
      "text/html": [
       "<div>\n",
       "<style scoped>\n",
       "    .dataframe tbody tr th:only-of-type {\n",
       "        vertical-align: middle;\n",
       "    }\n",
       "\n",
       "    .dataframe tbody tr th {\n",
       "        vertical-align: top;\n",
       "    }\n",
       "\n",
       "    .dataframe thead th {\n",
       "        text-align: right;\n",
       "    }\n",
       "</style>\n",
       "<table border=\"1\" class=\"dataframe\">\n",
       "  <thead>\n",
       "    <tr style=\"text-align: right;\">\n",
       "      <th></th>\n",
       "      <th>Title</th>\n",
       "      <th>Abstract</th>\n",
       "      <th>Text</th>\n",
       "    </tr>\n",
       "  </thead>\n",
       "  <tbody>\n",
       "    <tr>\n",
       "      <th>0</th>\n",
       "      <td>Claxton hunting first major medal</td>\n",
       "      <td>British hurdler Sarah Claxton is confident she...</td>\n",
       "      <td>The 25-year-old has already smashed the Britis...</td>\n",
       "    </tr>\n",
       "    <tr>\n",
       "      <th>1</th>\n",
       "      <td>O'Sullivan could run in Worlds</td>\n",
       "      <td>Sonia O'Sullivan has indicated that she would ...</td>\n",
       "      <td>Athletics Ireland have hinted that the 35-year...</td>\n",
       "    </tr>\n",
       "    <tr>\n",
       "      <th>2</th>\n",
       "      <td>Greene sets sights on world title</td>\n",
       "      <td>Maurice Greene aims to wipe out the pain of lo...</td>\n",
       "      <td>He had to settle for bronze in Greece behind f...</td>\n",
       "    </tr>\n",
       "    <tr>\n",
       "      <th>3</th>\n",
       "      <td>IAAF launches fight against drugs</td>\n",
       "      <td>The IAAF - athletics' world governing body - h...</td>\n",
       "      <td>Two task forces have been set up to examine do...</td>\n",
       "    </tr>\n",
       "    <tr>\n",
       "      <th>4</th>\n",
       "      <td>Dibaba breaks 5,000m world record</td>\n",
       "      <td>Ethiopia's Tirunesh Dibaba set a new world rec...</td>\n",
       "      <td>Dibaba won in 14 minutes 32.93 seconds to eras...</td>\n",
       "    </tr>\n",
       "    <tr>\n",
       "      <th>5</th>\n",
       "      <td>Isinbayeva claims new world best</td>\n",
       "      <td>Pole vaulter Yelena Isinbayeva broke her own i...</td>\n",
       "      <td>It was the Russian's 12th world record of her ...</td>\n",
       "    </tr>\n",
       "    <tr>\n",
       "      <th>6</th>\n",
       "      <td>O'Sullivan commits to Dublin race</td>\n",
       "      <td>Sonia O'Sullivan will seek to regain her title...</td>\n",
       "      <td>The 35-year-old was beaten into fourth at last...</td>\n",
       "    </tr>\n",
       "    <tr>\n",
       "      <th>7</th>\n",
       "      <td>Hansen 'delays return until 2006'</td>\n",
       "      <td>British triple jumper Ashia Hansen has ruled o...</td>\n",
       "      <td>Hansen, the Commonwealth and European champion...</td>\n",
       "    </tr>\n",
       "    <tr>\n",
       "      <th>8</th>\n",
       "      <td>Off-colour Gardener storms to win</td>\n",
       "      <td>Britain's Jason Gardener shook off an upset st...</td>\n",
       "      <td>Gardener clocked 6.56 seconds to equal the mee...</td>\n",
       "    </tr>\n",
       "    <tr>\n",
       "      <th>9</th>\n",
       "      <td>Collins to compete in Birmingham</td>\n",
       "      <td>World and Commonwealth 100m champion Kim Colli...</td>\n",
       "      <td>The St Kitts and Nevis star joins British Olym...</td>\n",
       "    </tr>\n",
       "  </tbody>\n",
       "</table>\n",
       "</div>"
      ],
      "text/plain": [
       "                               Title  \\\n",
       "0  Claxton hunting first major medal   \n",
       "1     O'Sullivan could run in Worlds   \n",
       "2  Greene sets sights on world title   \n",
       "3  IAAF launches fight against drugs   \n",
       "4  Dibaba breaks 5,000m world record   \n",
       "5   Isinbayeva claims new world best   \n",
       "6  O'Sullivan commits to Dublin race   \n",
       "7  Hansen 'delays return until 2006'   \n",
       "8  Off-colour Gardener storms to win   \n",
       "9   Collins to compete in Birmingham   \n",
       "\n",
       "                                            Abstract  \\\n",
       "0  British hurdler Sarah Claxton is confident she...   \n",
       "1  Sonia O'Sullivan has indicated that she would ...   \n",
       "2  Maurice Greene aims to wipe out the pain of lo...   \n",
       "3  The IAAF - athletics' world governing body - h...   \n",
       "4  Ethiopia's Tirunesh Dibaba set a new world rec...   \n",
       "5  Pole vaulter Yelena Isinbayeva broke her own i...   \n",
       "6  Sonia O'Sullivan will seek to regain her title...   \n",
       "7  British triple jumper Ashia Hansen has ruled o...   \n",
       "8  Britain's Jason Gardener shook off an upset st...   \n",
       "9  World and Commonwealth 100m champion Kim Colli...   \n",
       "\n",
       "                                                Text  \n",
       "0  The 25-year-old has already smashed the Britis...  \n",
       "1  Athletics Ireland have hinted that the 35-year...  \n",
       "2  He had to settle for bronze in Greece behind f...  \n",
       "3  Two task forces have been set up to examine do...  \n",
       "4  Dibaba won in 14 minutes 32.93 seconds to eras...  \n",
       "5  It was the Russian's 12th world record of her ...  \n",
       "6  The 35-year-old was beaten into fourth at last...  \n",
       "7  Hansen, the Commonwealth and European champion...  \n",
       "8  Gardener clocked 6.56 seconds to equal the mee...  \n",
       "9  The St Kitts and Nevis star joins British Olym...  "
      ]
     },
     "execution_count": 102,
     "metadata": {},
     "output_type": "execute_result"
    }
   ],
   "source": []
  },
  {
   "cell_type": "code",
   "execution_count": 103,
   "metadata": {},
   "outputs": [
    {
     "name": "stdout",
     "output_type": "stream",
     "text": [
      "<class 'pandas.core.frame.DataFrame'>\n",
      "RangeIndex: 200 entries, 0 to 199\n",
      "Data columns (total 3 columns):\n",
      "Title       200 non-null object\n",
      "Abstract    200 non-null object\n",
      "Text        200 non-null object\n",
      "dtypes: object(3)\n",
      "memory usage: 4.8+ KB\n"
     ]
    }
   ],
   "source": [
    "# random state\n",
    "rs = 42\n",
    "df2.info()"
   ]
  },
  {
   "cell_type": "code",
   "execution_count": 133,
   "metadata": {},
   "outputs": [
    {
     "name": "stdout",
     "output_type": "stream",
     "text": [
      "The 25-year-old has already smashed the British record over 60m hurdles twice this season, setting a new mark of 7.96 seconds to win the AAAs title. \"I am quite confident,\" said Claxton. \"But I take e\n"
     ]
    },
    {
     "name": "stderr",
     "output_type": "stream",
     "text": [
      "D:\\Programs\\conda\\lib\\site-packages\\ipykernel_launcher.py:2: FutureWarning: get_value is deprecated and will be removed in a future release. Please use .at[] or .iat[] accessors instead\n",
      "  \n"
     ]
    }
   ],
   "source": [
    "# print out the first 200 characters of the first row of text column\n",
    "print(df2.get_value(index=0, col = 'Text')[:200])"
   ]
  },
  {
   "cell_type": "code",
   "execution_count": 134,
   "metadata": {},
   "outputs": [
    {
     "name": "stdout",
     "output_type": "stream",
     "text": [
      "Average length of the data:  1773.025\n",
      "Minimum length of the data:  479\n",
      "Maximum length of the data:  9581\n"
     ]
    }
   ],
   "source": [
    "# average length of text column\n",
    "print(\"Average length of the data: \", df2['Text'].apply(lambda x: len(x)).mean())\n",
    "\n",
    "# Minimum length of text column\n",
    "print(\"Minimum length of the data: \", df2['Text'].apply(lambda x: len(x)).min())\n",
    "\n",
    "# Maximum length of text column\n",
    "print(\"Maximum length of the data: \", df2['Text'].apply(lambda x: len(x)).max())"
   ]
  },
  {
   "cell_type": "markdown",
   "metadata": {},
   "source": [
    "### Data Prepocessing"
   ]
  },
  {
   "cell_type": "code",
   "execution_count": 106,
   "metadata": {},
   "outputs": [],
   "source": [
    "import string\n",
    "from nltk.corpus import stopwords as sw\n",
    "from nltk.corpus import wordnet as wn\n",
    "from nltk import wordpunct_tokenize\n",
    "from nltk import WordNetLemmatizer\n",
    "from nltk import sent_tokenize\n",
    "from nltk import pos_tag"
   ]
  },
  {
   "cell_type": "code",
   "execution_count": 157,
   "metadata": {},
   "outputs": [],
   "source": [
    "# initialise WordNet lemmatizer and punctuation filter\n",
    "lemmatizer = WordNetLemmatizer()\n",
    "punct = set(string.punctuation)\n",
    "\n",
    "# load the provided stopwords\n",
    "df_stop = pd.read_json('CaseStudy2Data\\Federaliststop.json')\n",
    "\n",
    "# join provided stopwords with the default NLTK English stopwords\n",
    "stopwords = set(df_stop['Term']).union(set(sw.words('english')))\n",
    "\n",
    "def lemmatize(token, tag):\n",
    "    tag = {\n",
    "        'N': wn.NOUN,\n",
    "        'V': wn.VERB,\n",
    "        'R': wn.ADV,\n",
    "        'J': wn.ADJ\n",
    "    }.get(tag[0], wn.NOUN)\n",
    "\n",
    "    return lemmatizer.lemmatize(token, tag)"
   ]
  },
  {
   "cell_type": "code",
   "execution_count": 158,
   "metadata": {},
   "outputs": [],
   "source": [
    "def cab_tokenizer(document):\n",
    "    # initialize token list\n",
    "    tokens = []\n",
    "    \n",
    "    # split the document into sentences\n",
    "    for sent in sent_tokenize(document):\n",
    "        # split the document into tokens and then create part of speech tag for each token\n",
    "        for token, tag in pos_tag(wordpunct_tokenize(sent)):\n",
    "            # preprocess and remove unnecessary characters\n",
    "            token = token.lower()\n",
    "            token = token.strip()\n",
    "            token = token.strip('_')\n",
    "            token = token.strip('*')\n",
    "\n",
    "            # If stopword, ignore token and continue\n",
    "            if token in stopwords:\n",
    "                continue\n",
    "\n",
    "            # If punctuation, ignore token and continue\n",
    "            if all(char in punct for char in token):\n",
    "                continue\n",
    "\n",
    "            # Lemmatize the token and add back to the tokens list\n",
    "            lemma = lemmatize(token, tag)\n",
    "            tokens.append(lemma)\n",
    "    \n",
    "    return tokens"
   ]
  },
  {
   "cell_type": "code",
   "execution_count": 159,
   "metadata": {},
   "outputs": [
    {
     "name": "stdout",
     "output_type": "stream",
     "text": [
      "28495\n"
     ]
    }
   ],
   "source": [
    "from sklearn.feature_extraction.text import TfidfVectorizer\n",
    "\n",
    "# tf idf vectoriser\n",
    "tfidf_vec = TfidfVectorizer(tokenizer=cab_tokenizer, ngram_range=(1,2))\n",
    "X = tfidf_vec.fit_transform(df2['Text'])\n",
    "\n",
    "# see the number of unique tokens produced by the vectorizer. Lots of them...\n",
    "print(len(tfidf_vec.get_feature_names()))"
   ]
  },
  {
   "cell_type": "markdown",
   "metadata": {},
   "source": [
    "### Initial Document Analysis"
   ]
  },
  {
   "cell_type": "code",
   "execution_count": 161,
   "metadata": {},
   "outputs": [],
   "source": [
    "from sklearn.cluster import KMeans\n",
    "\n",
    "# K means clustering using the term vector\n",
    "#kmeans = KMeans(n_clusters=7, random_state=rs).fit(X)\n",
    "kmeans = KMeans(n_clusters=7, random_state=rs).fit(X)"
   ]
  },
  {
   "cell_type": "code",
   "execution_count": 199,
   "metadata": {
    "scrolled": true
   },
   "outputs": [
    {
     "name": "stdout",
     "output_type": "stream",
     "text": [
      "Top terms for cluster 0: ball, cricket, wicket, pakistan, australia, run, test, strauss, england, icc, \n",
      "Top terms for cluster 1: season, play, game, injury, villa, 17, clijsters, australian, capriati, year, \n",
      "Top terms for cluster 2: 6, roddick, 7, win, year, hewitt, set, play, 3, final, \n",
      "Top terms for cluster 3: club, want, player, liverpool, madrid, â £, £, â, play, benitez, \n",
      "Top terms for cluster 4: paula, world, marathon, radcliffe, year, cross, compete, chepkemei, event, world cross, \n",
      "Top terms for cluster 5: england, ireland, wale, game, win, back, goal, team, kick, nation, \n",
      "Top terms for cluster 6: drug, athlete, iaaf, athletics, test, balco, greek, ban, olympics, kenteris, \n"
     ]
    }
   ],
   "source": [
    "# function to visualise text cluster. Useful for the assignment too :)\n",
    "def visualise_text_cluster(n_clusters, cluster_centers, terms, num_word = 5):\n",
    "    # -- Params --\n",
    "    # cluster_centers: cluster centers of fitted/trained KMeans/other centroid-based clustering\n",
    "    # terms: terms used for clustering\n",
    "    # num_word: number of terms to show per cluster. Change as you please.\n",
    "    \n",
    "    # find features/terms closest to centroids\n",
    "    ordered_centroids = cluster_centers.argsort()[:, ::-1]\n",
    "    \n",
    "    for cluster in range(n_clusters):\n",
    "        print(\"Top terms for cluster {}:\".format(cluster), end=\" \")\n",
    "        for term_idx in ordered_centroids[cluster, :10]:\n",
    "            print(terms[term_idx], end=', ')\n",
    "        print()\n",
    "        \n",
    "# call it\n",
    "visualise_text_cluster(kmeans.n_clusters, kmeans.cluster_centers_, tfidf_vec.get_feature_names())"
   ]
  },
  {
   "cell_type": "markdown",
   "metadata": {},
   "source": [
    "###  Feature Selection and Transformation\n",
    "####  Zipf's Law and Document Frequency Filtering"
   ]
  },
  {
   "cell_type": "code",
   "execution_count": 163,
   "metadata": {},
   "outputs": [],
   "source": [
    "import seaborn as sns\n",
    "import matplotlib.pyplot as plt\n",
    "\n",
    "# creating tf-idf terms - a bit slow, do it occasionaly\n",
    "def calculate_tf_idf_terms(document_col):\n",
    "    # Param - document_col: collection of raw document text that you want to analyse\n",
    "    from sklearn.feature_extraction.text import CountVectorizer\n",
    "\n",
    "    # use count vectorizer to find TF and DF of each term\n",
    "    count_vec = CountVectorizer(tokenizer=cab_tokenizer, ngram_range=(1,2))\n",
    "    X_count = count_vec.fit_transform(df2['Text'])\n",
    "    \n",
    "    # create list of terms and their tf and df\n",
    "    terms = [{'term': t, 'idx': count_vec.vocabulary_[t],\n",
    "              'tf': X_count[:, count_vec.vocabulary_[t]].sum(),\n",
    "              'df': X_count[:, count_vec.vocabulary_[t]].count_nonzero()}\n",
    "             for t in count_vec.vocabulary_]\n",
    "    #print(count_vec.get_feature_names())\n",
    "    #print(len(count_vec.get_feature_names()))\n",
    "    return terms\n",
    "    \n",
    "terms = calculate_tf_idf_terms(df2['Text'])"
   ]
  },
  {
   "cell_type": "code",
   "execution_count": 164,
   "metadata": {},
   "outputs": [
    {
     "data": {
      "image/png": "[encoded data removed]",
      "text/plain": [
       "<Figure size 432x288 with 1 Axes>"
      ]
     },
     "metadata": {},
     "output_type": "display_data"
    }
   ],
   "source": [
    "# visualisation of ZIPF law\n",
    "def visualise_zipf(terms, itr_step = 50):\n",
    "    from scipy.spatial.distance import euclidean\n",
    "    from math import sqrt\n",
    "    \n",
    "    # --- Param ---\n",
    "    # terms: collection of terms dictionary from calculate_tf_idf_terms function\n",
    "    # itr_step: used to control how many terms that you want to plot. Num of terms to plot = N terms / itr_step\n",
    "    \n",
    "    # sort terms by its frequency\n",
    "    terms.sort(key=lambda x: (x['tf'], x['df']), reverse=True)\n",
    "    \n",
    "    # select a few of the terms for plotting purpose\n",
    "    sel_terms = [terms[i] for i in range(0, len(terms), itr_step)]\n",
    "    labels = [term['term'] for term in sel_terms]\n",
    "    \n",
    "    # plot term frequency ranking vs its DF\n",
    "    plt.plot(range(len(sel_terms)), [x['df'] for x in sel_terms])\n",
    "    plt.xlabel('Term frequency ranking')\n",
    "    plt.ylabel('Document frequency')\n",
    "    \n",
    "    max_x = len(sel_terms)\n",
    "    max_y = max([x['df'] for x in sel_terms])\n",
    "    \n",
    "    # annotate the points\n",
    "    prev_x, prev_y = 0, 0\n",
    "    for label, x, y in zip(labels,range(len(sel_terms)), [x['df'] for x in sel_terms]):\n",
    "        # calculate the relative distance between labels to increase visibility\n",
    "        x_dist = (abs(x - prev_x) / float(max_x)) ** 2\n",
    "        y_dist = (abs(y - prev_y) / float(max_y)) ** 2\n",
    "        scaled_dist = sqrt(x_dist + y_dist)\n",
    "        \n",
    "        if (scaled_dist > 0.1):\n",
    "            plt.text(x+2, y+2, label, {'ha': 'left', 'va': 'bottom'}, rotation=30)\n",
    "            prev_x, prev_y = x, y\n",
    "    \n",
    "    plt.show()\n",
    "    \n",
    "visualise_zipf(terms)"
   ]
  },
  {
   "cell_type": "code",
   "execution_count": 165,
   "metadata": {
    "scrolled": false
   },
   "outputs": [
    {
     "name": "stdout",
     "output_type": "stream",
     "text": [
      "The top 10 terms with high tf and df\n"
     ]
    },
    {
     "data": {
      "text/plain": [
       "[{'term': 'year', 'idx': 28198, 'tf': 288, 'df': 131},\n",
       " {'term': 'game', 'idx': 10951, 'tf': 236, 'df': 102},\n",
       " {'term': 'play', 'idx': 19252, 'tf': 228, 'df': 100},\n",
       " {'term': 'win', 'idx': 27550, 'tf': 215, 'df': 98},\n",
       " {'term': 'one', 'idx': 18176, 'tf': 184, 'df': 99},\n",
       " {'term': 'england', 'idx': 8858, 'tf': 163, 'df': 46},\n",
       " {'term': 'make', 'idx': 15817, 'tf': 156, 'df': 105},\n",
       " {'term': 'world', 'idx': 27932, 'tf': 155, 'df': 84},\n",
       " {'term': 'player', 'idx': 19411, 'tf': 153, 'df': 81},\n",
       " {'term': 'would', 'idx': 28004, 'tf': 149, 'df': 91}]"
      ]
     },
     "execution_count": 165,
     "metadata": {},
     "output_type": "execute_result"
    }
   ],
   "source": [
    "print(\"The top 10 terms with high tf and df\")\n",
    "terms[:10]"
   ]
  },
  {
   "cell_type": "code",
   "execution_count": 166,
   "metadata": {
    "scrolled": true
   },
   "outputs": [
    {
     "name": "stdout",
     "output_type": "stream",
     "text": [
      "5209\n"
     ]
    }
   ],
   "source": [
    "# another tf idf vectoriser\n",
    "# limit the terms produced to terms that occured in min of 2 documents and max 80% of all documents\n",
    "filter_vec = TfidfVectorizer(tokenizer=cab_tokenizer, ngram_range=(1,2), min_df=2, max_df=0.8)\n",
    "X_filter = filter_vec.fit_transform(df2['Text'])\n",
    "\n",
    "# see the number of unique tokens produced by the vectorizer. Reduced!\n",
    "print(len(filter_vec.get_feature_names()))"
   ]
  },
  {
   "cell_type": "markdown",
   "metadata": {},
   "source": [
    "This process greatly reduced the number of terms in a feature set. Try to build another clustering solution and check if the clusters are more meaningful."
   ]
  },
  {
   "cell_type": "code",
   "execution_count": 167,
   "metadata": {},
   "outputs": [
    {
     "name": "stdout",
     "output_type": "stream",
     "text": [
      "Wall time: 949 ms\n"
     ]
    }
   ],
   "source": [
    "%%time\n",
    "# K means clustering using the new term vector, time it for comparison to SVD\n",
    "#kmeans_fil = KMeans(n_clusters=7, random_state=rs).fit(X_filter)\n",
    "kmeans_fil = KMeans(n_clusters=7, random_state=rs).fit(X_filter)\n"
   ]
  },
  {
   "cell_type": "code",
   "execution_count": 168,
   "metadata": {
    "scrolled": true
   },
   "outputs": [
    {
     "name": "stdout",
     "output_type": "stream",
     "text": [
      "Top terms for cluster 0: hewitt, win, grand slam, slam, grand, \n",
      "Top terms for cluster 1: 6, 7, roddick, moya, 3, \n",
      "Top terms for cluster 2: world, year, olympic, athletics, athlete, \n",
      "Top terms for cluster 3: arsenal, henry, club, chelsea, player, \n",
      "Top terms for cluster 4: england, cricket, play, game, rugby, \n",
      "Top terms for cluster 5: ball, wicket, run, vaughan, strauss, \n",
      "Top terms for cluster 6: club, game, liverpool, want, manager, \n"
     ]
    }
   ],
   "source": [
    "# visualisation\n",
    "visualise_text_cluster(kmeans_fil.n_clusters, kmeans_fil.cluster_centers_, filter_vec.get_feature_names())"
   ]
  },
  {
   "cell_type": "markdown",
   "metadata": {},
   "source": [
    "### Clustering with filtered terms"
   ]
  },
  {
   "cell_type": "code",
   "execution_count": 169,
   "metadata": {},
   "outputs": [],
   "source": [
    "# list to save the clusters and cost\n",
    "clusters = []\n",
    "inertia_vals = []\n",
    "\n",
    "# this whole process should take a while\n",
    "for k in range(1, 30, 3):\n",
    "    # train clustering with the specified K\n",
    "    model = KMeans(n_clusters=k, random_state=rs, n_jobs=-10)\n",
    "    model.fit(X_filter)\n",
    "    \n",
    "    # append model to cluster list\n",
    "    clusters.append(model)\n",
    "    inertia_vals.append(model.inertia_)"
   ]
  },
  {
   "cell_type": "code",
   "execution_count": 170,
   "metadata": {},
   "outputs": [
    {
     "data": {
      "image/png": "[encoded data removed]",
      "text/plain": [
       "<Figure size 432x288 with 1 Axes>"
      ]
     },
     "metadata": {},
     "output_type": "display_data"
    }
   ],
   "source": [
    "# plot the inertia vs K values\n",
    "plt.plot(range(1,30,3), inertia_vals, marker='*')\n",
    "plt.show()"
   ]
  },
  {
   "cell_type": "code",
   "execution_count": 171,
   "metadata": {},
   "outputs": [
    {
     "name": "stdout",
     "output_type": "stream",
     "text": [
      "KMeans(algorithm='auto', copy_x=True, init='k-means++', max_iter=300,\n",
      "    n_clusters=4, n_init=10, n_jobs=-10, precompute_distances='auto',\n",
      "    random_state=42, tol=0.0001, verbose=0)\n",
      "Silhouette score for k=3 0.009725082025277314\n",
      "\n",
      "\n",
      "KMeans(algorithm='auto', copy_x=True, init='k-means++', max_iter=300,\n",
      "    n_clusters=7, n_init=10, n_jobs=-10, precompute_distances='auto',\n",
      "    random_state=42, tol=0.0001, verbose=0)\n",
      "Silhouette score for k=6 0.011697290987505543\n"
     ]
    }
   ],
   "source": [
    "#Get optimum clusters\n",
    "\n",
    "from sklearn.metrics import silhouette_score\n",
    "\n",
    "print(clusters[1])\n",
    "print(\"Silhouette score for k=3\", silhouette_score(X, clusters[1].predict(X_filter)))\n",
    "print('\\n')\n",
    "\n",
    "print(clusters[2])\n",
    "print(\"Silhouette score for k=6\", silhouette_score(X, clusters[2].predict(X_filter)))"
   ]
  },
  {
   "cell_type": "code",
   "execution_count": 175,
   "metadata": {},
   "outputs": [
    {
     "name": "stdout",
     "output_type": "stream",
     "text": [
      "Top terms for cluster 0: hewitt, win, grand slam, slam, grand, \n",
      "Top terms for cluster 1: 6, 7, roddick, moya, 3, \n",
      "Top terms for cluster 2: world, year, olympic, athletics, athlete, \n",
      "Top terms for cluster 3: arsenal, henry, club, chelsea, player, \n",
      "Top terms for cluster 4: england, cricket, play, game, rugby, \n",
      "Top terms for cluster 5: ball, wicket, run, vaughan, strauss, \n",
      "Top terms for cluster 6: club, game, liverpool, want, manager, \n"
     ]
    }
   ],
   "source": [
    "# best cluster number k = 6\n",
    "kmeans_fil2 = KMeans(n_clusters=7, random_state=rs).fit(X_filter)\n",
    "# visualisation\n",
    "visualise_text_cluster(kmeans_fil2.n_clusters, kmeans_fil2.cluster_centers_, filter_vec.get_feature_names())"
   ]
  },
  {
   "cell_type": "markdown",
   "metadata": {},
   "source": [
    "#### Singular Value Decomposition"
   ]
  },
  {
   "cell_type": "code",
   "execution_count": 191,
   "metadata": {},
   "outputs": [],
   "source": [
    "from sklearn.decomposition import TruncatedSVD\n",
    "\n",
    "#svd = TruncatedSVD(n_components=100, random_state=42)\n",
    "svd = TruncatedSVD(n_components=100, random_state=42)\n",
    "X_trans = svd.fit_transform(X_filter)"
   ]
  },
  {
   "cell_type": "code",
   "execution_count": 192,
   "metadata": {
    "scrolled": true
   },
   "outputs": [
    {
     "name": "stdout",
     "output_type": "stream",
     "text": [
      "Top terms in component #0 year, play, game, england, win, 6, team, player, world, would, \n",
      "Top terms in component #1 6, 7, roddick, hewitt, 3, 7 6, moya, 6 7, set, federer, \n",
      "Top terms in component #2 ball, wicket, england, strauss, run, 6, trescothick, inning, vaughan, jones, \n",
      "Top terms in component #3 world, drug, athletics, test, athlete, olympic, ban, iaaf, marathon, indoor, \n",
      "Top terms in component #4 england, ireland, wale, nation, france, hodgson, six nation, williams, kick, rugby, \n",
      "Top terms in component #5 arsenal, chelsea, shot, henry, indoor, record, goal, finish, bekele, minute, \n",
      "100\n"
     ]
    }
   ],
   "source": [
    "# sort the components by largest weighted word\n",
    "sorted_comp = svd.components_.argsort()[:, ::-1]\n",
    "terms = filter_vec.get_feature_names()\n",
    "\n",
    "# visualise word - concept/component relationships\n",
    "for comp_num in range(6):\n",
    "    print(\"Top terms in component #{}\".format(comp_num), end=\" \")\n",
    "    for i in sorted_comp[comp_num, :10]:\n",
    "        print(terms[i], end=\", \")\n",
    "    print()\n",
    "print(len(sorted_comp))"
   ]
  },
  {
   "cell_type": "code",
   "execution_count": 197,
   "metadata": {
    "scrolled": true
   },
   "outputs": [
    {
     "name": "stdout",
     "output_type": "stream",
     "text": [
      "Wall time: 33.9 ms\n"
     ]
    }
   ],
   "source": [
    "%%time\n",
    "# K-means clustering using LSA-transformed X\n",
    "svd_kmeans = KMeans(n_clusters=6, random_state=rs).fit(X_trans)"
   ]
  },
  {
   "cell_type": "code",
   "execution_count": 200,
   "metadata": {},
   "outputs": [
    {
     "name": "stdout",
     "output_type": "stream",
     "text": [
      "Top terms for cluster 0: world, year, paula, radcliffe, marathon, record, cross, indoor, bekele, 000m, \n",
      "Top terms for cluster 1: 6, roddick, 7, hewitt, win, year, set, federer, final, moya, \n",
      "Top terms for cluster 2: drug, athlete, iaaf, test, athletics, balco, greek, 200m, medal, ban, \n",
      "Top terms for cluster 3: game, play, player, club, want, team, would, england, year, cricket, \n",
      "Top terms for cluster 4: england, ireland, hodgson, nation, france, wale, six nation, six, lewsey, win, \n",
      "Top terms for cluster 5: wale, bath, rugby, williams, tindall, henson, zealand, tour, mike, welsh, \n"
     ]
    }
   ],
   "source": [
    "# transform cluster centers back to original feature space for visualisation\n",
    "original_space_centroids = svd.inverse_transform(svd_kmeans.cluster_centers_)\n",
    "\n",
    "# visualisation\n",
    "visualise_text_cluster(svd_kmeans.n_clusters, original_space_centroids, filter_vec.get_feature_names())"
   ]
  },
  {
   "cell_type": "code",
   "execution_count": 210,
   "metadata": {},
   "outputs": [
    {
     "name": "stdout",
     "output_type": "stream",
     "text": [
      "The top 15 terms\n"
     ]
    },
    {
     "data": {
      "text/plain": [
       "[{'term': '25', 'idx': 739, 'tf': 23, 'df': 19},\n",
       " {'term': 'year', 'idx': 28198, 'tf': 288, 'df': 131},\n",
       " {'term': 'old', 'idx': 18031, 'tf': 86, 'df': 73},\n",
       " {'term': 'smash', 'idx': 23458, 'tf': 6, 'df': 6},\n",
       " {'term': 'record', 'idx': 20662, 'tf': 44, 'df': 31},\n",
       " {'term': '60m', 'idx': 1190, 'tf': 12, 'df': 7},\n",
       " {'term': 'hurdle', 'idx': 13008, 'tf': 6, 'df': 4},\n",
       " {'term': 'season', 'idx': 22252, 'tf': 88, 'df': 52},\n",
       " {'term': 'set', 'idx': 22687, 'tf': 123, 'df': 66},\n",
       " {'term': 'mark', 'idx': 16127, 'tf': 49, 'df': 33},\n",
       " {'term': '7', 'idx': 1236, 'tf': 60, 'df': 19},\n",
       " {'term': '96', 'idx': 1404, 'tf': 1, 'df': 1},\n",
       " {'term': 'second', 'idx': 22339, 'tf': 122, 'df': 76},\n",
       " {'term': 'win', 'idx': 27550, 'tf': 215, 'df': 98},\n",
       " {'term': 'aaas', 'idx': 1414, 'tf': 1, 'df': 1}]"
      ]
     },
     "execution_count": 210,
     "metadata": {},
     "output_type": "execute_result"
    }
   ],
   "source": [
    "terms = calculate_tf_idf_terms(X_trans)\n",
    "print(\"The top 15 terms\")\n",
    "terms[:15]"
   ]
  },
  {
   "cell_type": "code",
   "execution_count": 209,
   "metadata": {},
   "outputs": [
    {
     "data": {
      "image/png": "[encoded data removed]",
      "text/plain": [
       "<Figure size 432x288 with 1 Axes>"
      ]
     },
     "metadata": {},
     "output_type": "display_data"
    }
   ],
   "source": [
    "visualise_zipf(terms)"
   ]
  }
 ],
 "metadata": {
  "kernelspec": {
   "display_name": "Python 3",
   "language": "python",
   "name": "python3"
  },
  "language_info": {
   "codemirror_mode": {
    "name": "ipython",
    "version": 3
   },
   "file_extension": ".py",
   "mimetype": "text/x-python",
   "name": "python",
   "nbconvert_exporter": "python",
   "pygments_lexer": "ipython3",
   "version": "3.6.5"
  }
 },
 "nbformat": 4,
 "nbformat_minor": 2
}
